{
 "cells": [
  {
   "cell_type": "code",
   "execution_count": 3,
   "id": "537c5393",
   "metadata": {},
   "outputs": [],
   "source": [
    "# Importing and connecting mongodb\n",
    "from pymongo import MongoClient\n",
    "client = MongoClient(\"mongodb://localhost:27017\")   # Connection to localhost\n",
    "db = client[\"TEST_DB\"]                              # Database\n",
    "col = db[\"test_col\"]                                # Collection"
   ]
  },
  {
   "cell_type": "markdown",
   "id": "2e325498",
   "metadata": {},
   "source": [
    "# Insertion"
   ]
  },
  {
   "cell_type": "markdown",
   "id": "55195160",
   "metadata": {},
   "source": [
    "### Insert one document"
   ]
  },
  {
   "cell_type": "code",
   "execution_count": 5,
   "id": "7fe62075",
   "metadata": {},
   "outputs": [
    {
     "data": {
      "text/plain": [
       "<pymongo.results.InsertOneResult at 0x12ffb592430>"
      ]
     },
     "execution_count": 5,
     "metadata": {},
     "output_type": "execute_result"
    }
   ],
   "source": [
    "col.insert_one({\n",
    "    \"name\": \"atomic habits\",\n",
    "    \"author\": \"james clear\",\n",
    "    \"published\": 2019\n",
    "})"
   ]
  },
  {
   "cell_type": "markdown",
   "id": "eca5be03",
   "metadata": {},
   "source": [
    "### Insert many documents at once"
   ]
  },
  {
   "cell_type": "code",
   "execution_count": 6,
   "id": "ac3938de",
   "metadata": {},
   "outputs": [
    {
     "data": {
      "text/plain": [
       "<pymongo.results.InsertManyResult at 0x12ffddc2b50>"
      ]
     },
     "execution_count": 6,
     "metadata": {},
     "output_type": "execute_result"
    }
   ],
   "source": [
    "col.insert_many([\n",
    "    {\n",
    "        \"name\": \"Good to great\",\n",
    "        \"author\": \"jim collins\",\n",
    "        \"published\": 1993\n",
    "    },\n",
    "    {\n",
    "        \"name\": \"Life 3.0\",\n",
    "        \"author\": \"Max tegmark\",\n",
    "        \"published\": 2017\n",
    "    }\n",
    "])"
   ]
  },
  {
   "cell_type": "code",
   "execution_count": null,
   "id": "9e7dc9bf",
   "metadata": {},
   "outputs": [],
   "source": []
  },
  {
   "cell_type": "markdown",
   "id": "86bf69d5",
   "metadata": {},
   "source": [
    "# Query"
   ]
  },
  {
   "cell_type": "markdown",
   "id": "d1bf9248",
   "metadata": {},
   "source": [
    "### Find query"
   ]
  },
  {
   "cell_type": "code",
   "execution_count": 12,
   "id": "5efba008",
   "metadata": {},
   "outputs": [
    {
     "name": "stdout",
     "output_type": "stream",
     "text": [
      "[{'_id': ObjectId('63d7ee7011759b8c9b256130'), 'author': 'Max tegmark'}]\n"
     ]
    }
   ],
   "source": [
    "print([*col.find({\n",
    "    \"name\": \"Life 3.0\"\n",
    "}, {\n",
    "    \"author\": 1\n",
    "})])"
   ]
  },
  {
   "cell_type": "markdown",
   "id": "d009e0c4",
   "metadata": {},
   "source": [
    "### Sort query"
   ]
  },
  {
   "cell_type": "code",
   "execution_count": 10,
   "id": "33c23c82",
   "metadata": {},
   "outputs": [
    {
     "name": "stdout",
     "output_type": "stream",
     "text": [
      "[{'_id': ObjectId('63d7ee7011759b8c9b25612f'), 'name': 'Good to great', 'author': 'jim collins', 'published': 1993}, {'_id': ObjectId('63d7ee7011759b8c9b256130'), 'name': 'Life 3.0', 'author': 'Max tegmark', 'published': 2017}, {'_id': ObjectId('63d7ee3511759b8c9b25612e'), 'name': 'atomic habits', 'author': 'james clear', 'published': 2019}]\n"
     ]
    }
   ],
   "source": [
    "print([\n",
    "    *col.find().sort(\"published\", 1)\n",
    "])"
   ]
  },
  {
   "cell_type": "markdown",
   "id": "9b6110b9",
   "metadata": {},
   "source": [
    "### Get specific number of elements"
   ]
  },
  {
   "cell_type": "code",
   "execution_count": 14,
   "id": "26bbdd98",
   "metadata": {},
   "outputs": [
    {
     "name": "stdout",
     "output_type": "stream",
     "text": [
      "[{'_id': ObjectId('63d7ee7011759b8c9b25612f'), 'name': 'Good to great', 'author': 'jim collins', 'published': 1993}]\n"
     ]
    }
   ],
   "source": [
    "print([\n",
    "    *col.find().sort(\"published\", 1).limit(1)\n",
    "])"
   ]
  },
  {
   "cell_type": "code",
   "execution_count": null,
   "id": "845f5a45",
   "metadata": {},
   "outputs": [],
   "source": []
  },
  {
   "cell_type": "markdown",
   "id": "58c6fcf9",
   "metadata": {},
   "source": [
    "# Updation"
   ]
  },
  {
   "cell_type": "markdown",
   "id": "d9277ccb",
   "metadata": {},
   "source": [
    "### Update one"
   ]
  },
  {
   "cell_type": "code",
   "execution_count": 17,
   "id": "9c2519b8",
   "metadata": {},
   "outputs": [
    {
     "name": "stdout",
     "output_type": "stream",
     "text": [
      "0\n",
      "[{'_id': ObjectId('63d7ee3511759b8c9b25612e'), 'name': 'atomic habits', 'author': 'james clear', 'published': 2019}, {'_id': ObjectId('63d7ee7011759b8c9b25612f'), 'name': 'Good to great', 'author': 'jim collins', 'published': 2021}, {'_id': ObjectId('63d7ee7011759b8c9b256130'), 'name': 'Life 3.0', 'author': 'Max tegmark', 'published': 2017}]\n"
     ]
    }
   ],
   "source": [
    "print(\n",
    "    col.update_one({\n",
    "        \"author\": \"jim collins\"\n",
    "    }, {\n",
    "        \"$set\": {\n",
    "            \"published\": 2021\n",
    "        }\n",
    "    }).modified_count      # prints the number of updated documents\n",
    ")\n",
    "\n",
    "print([*col.find()])"
   ]
  },
  {
   "cell_type": "markdown",
   "id": "20bfc98b",
   "metadata": {},
   "source": [
    "### Update many"
   ]
  },
  {
   "cell_type": "code",
   "execution_count": 18,
   "id": "656ee328",
   "metadata": {},
   "outputs": [
    {
     "name": "stdout",
     "output_type": "stream",
     "text": [
      "[{'_id': ObjectId('63d7ee3511759b8c9b25612e'), 'name': 'atomic habits', 'author': 'james clear', 'published': 2019}, {'_id': ObjectId('63d7ee7011759b8c9b25612f'), 'name': 'PUBLISHED IN 2021', 'author': 'jim collins', 'published': 2021}, {'_id': ObjectId('63d7ee7011759b8c9b256130'), 'name': 'Life 3.0', 'author': 'Max tegmark', 'published': 2017}]\n"
     ]
    }
   ],
   "source": [
    "col.update_many({\"published\" : 2021}, {\n",
    "    \"$set\": {\n",
    "        \"name\": \"PUBLISHED IN 2021\"\n",
    "    }\n",
    "})\n",
    "print([*col.find()])"
   ]
  },
  {
   "cell_type": "code",
   "execution_count": null,
   "id": "7eb06658",
   "metadata": {},
   "outputs": [],
   "source": []
  },
  {
   "cell_type": "markdown",
   "id": "f29ab4c0",
   "metadata": {},
   "source": [
    "# Deletion"
   ]
  },
  {
   "cell_type": "markdown",
   "id": "d6fed045",
   "metadata": {},
   "source": [
    "### Delete one"
   ]
  },
  {
   "cell_type": "code",
   "execution_count": 20,
   "id": "a3212699",
   "metadata": {},
   "outputs": [
    {
     "name": "stdout",
     "output_type": "stream",
     "text": [
      "[{'_id': ObjectId('63d7ee3511759b8c9b25612e'), 'name': 'atomic habits', 'author': 'james clear', 'published': 2019}, {'_id': ObjectId('63d7ee7011759b8c9b256130'), 'name': 'Life 3.0', 'author': 'Max tegmark', 'published': 2017}]\n"
     ]
    }
   ],
   "source": [
    "col.delete_one({\n",
    "    \"published\": 2021,\n",
    "})\n",
    "\n",
    "print([*col.find()])"
   ]
  },
  {
   "cell_type": "markdown",
   "id": "a0cd93a3",
   "metadata": {},
   "source": [
    "### Delete Many"
   ]
  },
  {
   "cell_type": "code",
   "execution_count": 22,
   "id": "828a136a",
   "metadata": {},
   "outputs": [
    {
     "name": "stdout",
     "output_type": "stream",
     "text": [
      "[{'_id': ObjectId('63d7ee3511759b8c9b25612e'), 'name': 'atomic habits', 'author': 'james clear', 'published': 2019}, {'_id': ObjectId('63d7ee7011759b8c9b256130'), 'name': 'Life 3.0', 'author': 'Max tegmark', 'published': 2017}]\n"
     ]
    }
   ],
   "source": [
    "col.delete_many({\n",
    "    \"published\": 2021,\n",
    "})\n",
    "\n",
    "print([*col.find()])"
   ]
  },
  {
   "cell_type": "code",
   "execution_count": null,
   "id": "dc5177b5",
   "metadata": {},
   "outputs": [],
   "source": []
  },
  {
   "cell_type": "markdown",
   "id": "f38bde99",
   "metadata": {},
   "source": [
    "# Drop collection"
   ]
  },
  {
   "cell_type": "code",
   "execution_count": 23,
   "id": "5bd66cb4",
   "metadata": {},
   "outputs": [],
   "source": [
    "col.drop()"
   ]
  }
 ],
 "metadata": {
  "kernelspec": {
   "display_name": "Python 3 (ipykernel)",
   "language": "python",
   "name": "python3"
  },
  "language_info": {
   "codemirror_mode": {
    "name": "ipython",
    "version": 3
   },
   "file_extension": ".py",
   "mimetype": "text/x-python",
   "name": "python",
   "nbconvert_exporter": "python",
   "pygments_lexer": "ipython3",
   "version": "3.9.12"
  }
 },
 "nbformat": 4,
 "nbformat_minor": 5
}
